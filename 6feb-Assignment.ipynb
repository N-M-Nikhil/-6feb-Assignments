{
 "cells": [
  {
   "cell_type": "code",
   "execution_count": 1,
   "id": "2e4aeecf-0e18-45f5-b180-14d9304585e4",
   "metadata": {},
   "outputs": [
    {
     "name": "stdout",
     "output_type": "stream",
     "text": [
      "4134711838987085478833841242112000\n"
     ]
    }
   ],
   "source": [
    "# Q.1.Answer\n",
    "\n",
    "from functools import reduce\n",
    "\n",
    "\n",
    "def product(list2):\n",
    "    mul=reduce(lambda x,y:x*y,list2)\n",
    "    print(mul)\n",
    "    \n",
    "    \n",
    "def flat_list(list1):\n",
    "    l=[]\n",
    "    for i in list1:\n",
    "        if type(i) == int :\n",
    "            l.append(i)\n",
    "        elif type(i)==list:\n",
    "            l.extend(flat_list(i))\n",
    "        elif type(i)==tuple:\n",
    "            l.extend(i)\n",
    "        elif type(i)==set:\n",
    "            l.extend(list(i))\n",
    "        elif type(i)==dict:\n",
    "            for k,v in i.items():\n",
    "                if type(k) in [int,float]:\n",
    "                    l.append(k)\n",
    "                if type(v) in [int,float]:\n",
    "                    l.append(v)\n",
    "                if type(v) in [list,tuple,set]:\n",
    "                    l.extend(flat_list(v))               \n",
    "    return l\n",
    "                    \n",
    " \n",
    "    \n",
    "list1 = [1,2,3,4, [44,55,66, True], False, (34,56,78,89,34), {1,2,3,3,2,1}, {1:34, \"key2\": [55, 67, 78, 89], 4: (45,\n",
    "22, 61, 34)}, [56, 'data science'], 'Machine Learning']  \n",
    "    \n",
    "list2=flat_list(list1)\n",
    "product(list2)\n",
    "\n",
    "\n",
    "        \n",
    "        \n",
    "    "
   ]
  },
  {
   "cell_type": "code",
   "execution_count": 2,
   "id": "19351e96-2e4f-475c-94bd-7cc0bb387cca",
   "metadata": {},
   "outputs": [
    {
     "name": "stdout",
     "output_type": "stream",
     "text": [
      "r$dzmg$gl$yvxlnv$z$wzgz$hxrvmgrhg"
     ]
    }
   ],
   "source": [
    "# Q.2.Answer\n",
    "l=\"abcdefghijklmnopqrstuvwxyz\"\n",
    "alpha= list(map(lambda x: x, l))\n",
    "\n",
    "alpha1=alpha[::-1]\n",
    "\n",
    "en={}\n",
    "s,l=0,len(alpha)-1\n",
    "\n",
    "while s<len(alpha):\n",
    "    \n",
    "    en[alpha[s]]=alpha[l]\n",
    "    s+=1\n",
    "    l-=1\n",
    "    \n",
    "en[\" \"]=\"$\"\n",
    "data=\"I want to become a Data Scientist\"\n",
    "data=data.lower()\n",
    "for i in data:\n",
    "    d=en[i]\n",
    "    print(d,end=\"\")\n",
    "\n",
    "    \n",
    "\n",
    "\n"
   ]
  },
  {
   "cell_type": "code",
   "execution_count": null,
   "id": "47cac354-7f3f-4105-b82a-fdf7e7edeb99",
   "metadata": {},
   "outputs": [],
   "source": []
  }
 ],
 "metadata": {
  "kernelspec": {
   "display_name": "Python 3 (ipykernel)",
   "language": "python",
   "name": "python3"
  },
  "language_info": {
   "codemirror_mode": {
    "name": "ipython",
    "version": 3
   },
   "file_extension": ".py",
   "mimetype": "text/x-python",
   "name": "python",
   "nbconvert_exporter": "python",
   "pygments_lexer": "ipython3",
   "version": "3.10.8"
  }
 },
 "nbformat": 4,
 "nbformat_minor": 5
}
